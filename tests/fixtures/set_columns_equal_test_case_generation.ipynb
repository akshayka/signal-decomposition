{
 "cells": [
  {
   "cell_type": "code",
   "execution_count": 1,
   "id": "79a2857d",
   "metadata": {},
   "outputs": [],
   "source": [
    "%load_ext autoreload\n",
    "%autoreload 2"
   ]
  },
  {
   "cell_type": "code",
   "execution_count": null,
   "id": "ea8ca793",
   "metadata": {},
   "outputs": [],
   "source": [
    "import numpy as np\n",
    "import sys\n",
    "sys.path.append('../../../optimal-signal-demixing/')\n",
    "from osd import Problem\n",
    "from osd.components import (\n",
    "    MeanSquareSmall, \n",
    "    AsymmetricNoise,\n",
    "    ConstantChunks\n",
    ")\n",
    "from osd.components.wrappers import make_columns_equal"
   ]
  }
 ],
 "metadata": {
  "kernelspec": {
   "display_name": "Python 3 (ipykernel)",
   "language": "python",
   "name": "python3"
  },
  "language_info": {
   "codemirror_mode": {
    "name": "ipython",
    "version": 3
   },
   "file_extension": ".py",
   "mimetype": "text/x-python",
   "name": "python",
   "nbconvert_exporter": "python",
   "pygments_lexer": "ipython3",
   "version": "3.7.6"
  }
 },
 "nbformat": 4,
 "nbformat_minor": 5
}
