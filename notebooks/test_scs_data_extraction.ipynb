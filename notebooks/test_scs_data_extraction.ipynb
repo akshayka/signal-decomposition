{
 "cells": [
  {
   "cell_type": "markdown",
   "metadata": {},
   "source": [
    "# Time to generate SCS data\n",
    "\n",
    "3/2/21\n",
    "\n",
    "To use cvxpylayers on the Signal Decompositon problem, it is necessary to solve the problem with SCS, complying with DPP rules. The tricky part is in the index selection for the global known set constraint. This can be encoded as a problem parameter, which would allow updating of the selection of holdout indices for SGD, but doing so causes a significant slow-down in generating the SCS problem data. This notebook shows this effect. "
   ]
  },
  {
   "cell_type": "code",
   "execution_count": 3,
   "metadata": {},
   "outputs": [],
   "source": [
    "import numpy as np\n",
    "import pandas as pd\n",
    "import matplotlib.pyplot as plt\n",
    "from scipy import signal\n",
    "from scipy.optimize import minimize_scalar, minimize\n",
    "from scipy import sparse as sp\n",
    "from time import time\n",
    "import seaborn as sns\n",
    "sns.set_style('darkgrid')\n",
    "sns.set_context('notebook')\n",
    "import cvxpy as cvx"
   ]
  },
  {
   "cell_type": "code",
   "execution_count": 12,
   "metadata": {},
   "outputs": [],
   "source": [
    "def make_problem(data, use_ixs, use_parameter=False, use_sparse=True):\n",
    "    y = data\n",
    "    n = len(y)\n",
    "    # Variables\n",
    "    x1 = cvx.Variable(n)\n",
    "    x2 = cvx.Variable(n)\n",
    "    x3 = cvx.Variable(n)\n",
    "    # Parameters\n",
    "    theta1 = cvx.Parameter(nonneg=True, value=1)\n",
    "    theta2 = cvx.Parameter(nonneg=True, value=1e7)  # BIG!!\n",
    "    theta3 = cvx.Parameter(nonneg=True, value=1e1)\n",
    "    Mval = np.eye(n)\n",
    "    Mval = Mval[use_ixs]\n",
    "    if use_sparse:\n",
    "        # Setting the pararmeter value with a sparse matrix, as suggested here: \n",
    "        # https://github.com/cvxgrp/cvxpy/issues/1159\n",
    "        Mval = sp.coo_matrix(Mval)\n",
    "        Mnnz = cvx.Parameter(Mval.nnz, nonneg=True)\n",
    "        data = np.ones(Mnnz.size)\n",
    "        rows = Mval.row * n + Mval.col\n",
    "        cols = np.arange(Mnnz.size)\n",
    "        m = np.sum(use_ixs)\n",
    "        Indexer = sp.coo_matrix(\n",
    "            (data, (rows, cols)), shape=(m * n, Mnnz.size))\n",
    "        M = cvx.reshape(Indexer @ Mnnz, (m, n), order='C')\n",
    "        Mnnz.value = Mval.data\n",
    "    else:\n",
    "        M = cvx.Parameter(Mval.shape, nonneg=True, value=Mval)\n",
    "    # Costs\n",
    "    phi1 = theta1 * cvx.sum_squares(x1)\n",
    "    phi2 = theta2 * cvx.sum_squares(cvx.diff(x2, k=2))\n",
    "    phi3 = theta3 * cvx.sum(cvx.abs(cvx.diff(x3, k=1)))\n",
    "    # Class constraints\n",
    "    constraints = [x3 >= -1, x3 <= 1]\n",
    "    # Global constraint\n",
    "    if use_parameter:\n",
    "        constraints.append(M @ y == M @ (x1 + x2 + x3))\n",
    "    else:\n",
    "        constraints.append(y[use_ixs] == (x1 + x2 + x3)[use_ixs])\n",
    "    # constraints.append(y == x1 + x2 + x3)\n",
    "    # Make problem\n",
    "    problem = cvx.Problem(cvx.Minimize(phi1 + phi2 + phi3), constraints)\n",
    "    return problem"
   ]
  },
  {
   "cell_type": "code",
   "execution_count": 13,
   "metadata": {},
   "outputs": [
    {
     "name": "stdout",
     "output_type": "stream",
     "text": [
      "(81, 100)\n",
      "(81, 100)\n",
      "(152, 200)\n",
      "(152, 200)\n",
      "(232, 300)\n",
      "(232, 300)\n",
      "(309, 400)\n",
      "(309, 400)\n",
      "(398, 500)\n",
      "(398, 500)\n",
      "(477, 600)\n",
      "(477, 600)\n",
      "(562, 700)\n",
      "(562, 700)\n",
      "(633, 800)\n",
      "(633, 800)\n",
      "(711, 900)\n",
      "(711, 900)\n",
      "(798, 1000)\n",
      "(798, 1000)\n"
     ]
    }
   ],
   "source": [
    "Ts = np.arange(100, 1100, 100)\n",
    "out_table = pd.DataFrame(index=Ts, columns=['dense', 'sparse', 'slice'])\n",
    "for T in Ts:\n",
    "    np.random.seed(42)\n",
    "    t = np.linspace(0, 1000, T)\n",
    "    signal1 = np.sin(2 * np.pi * t * 1 / (500.))\n",
    "    signal2 = signal.square(2 * np.pi * t * 1 / (450.))\n",
    "    y = signal1 + signal2 + 0.25 * np.random.randn(len(signal1))\n",
    "    use_ixs = np.random.uniform(size=T) >= 0.2\n",
    "    if T <= 500:\n",
    "        problem = make_problem(y, use_ixs, use_parameter=True, use_sparse=False)\n",
    "        ti = time()\n",
    "        data = problem.get_problem_data(cvx.SCS)[0]\n",
    "        tf = time()\n",
    "        out_table.loc[T, 'dense'] = tf - ti\n",
    "    problem = make_problem(y, use_ixs, use_parameter=True, use_sparse=True)\n",
    "    ti = time()\n",
    "    data = problem.get_problem_data(cvx.SCS)[0]\n",
    "    tf = time()\n",
    "    out_table.loc[T, 'sparse'] = tf - ti\n",
    "    problem = make_problem(y, use_ixs, use_parameter=False)\n",
    "    ti = time()\n",
    "    data = problem.get_problem_data(cvx.SCS)[0]\n",
    "    tf = time()\n",
    "    out_table.loc[T, 'slice'] = tf - ti"
   ]
  },
  {
   "cell_type": "code",
   "execution_count": 14,
   "metadata": {},
   "outputs": [
    {
     "data": {
      "text/html": [
       "<div>\n",
       "<style scoped>\n",
       "    .dataframe tbody tr th:only-of-type {\n",
       "        vertical-align: middle;\n",
       "    }\n",
       "\n",
       "    .dataframe tbody tr th {\n",
       "        vertical-align: top;\n",
       "    }\n",
       "\n",
       "    .dataframe thead th {\n",
       "        text-align: right;\n",
       "    }\n",
       "</style>\n",
       "<table border=\"1\" class=\"dataframe\">\n",
       "  <thead>\n",
       "    <tr style=\"text-align: right;\">\n",
       "      <th></th>\n",
       "      <th>dense</th>\n",
       "      <th>sparse</th>\n",
       "      <th>slice</th>\n",
       "    </tr>\n",
       "  </thead>\n",
       "  <tbody>\n",
       "    <tr>\n",
       "      <th>100</th>\n",
       "      <td>1.32494</td>\n",
       "      <td>0.047091</td>\n",
       "      <td>0.020114</td>\n",
       "    </tr>\n",
       "    <tr>\n",
       "      <th>200</th>\n",
       "      <td>6.754978</td>\n",
       "      <td>0.20738</td>\n",
       "      <td>0.021525</td>\n",
       "    </tr>\n",
       "    <tr>\n",
       "      <th>300</th>\n",
       "      <td>21.240442</td>\n",
       "      <td>0.380961</td>\n",
       "      <td>0.023405</td>\n",
       "    </tr>\n",
       "    <tr>\n",
       "      <th>400</th>\n",
       "      <td>46.759686</td>\n",
       "      <td>0.831745</td>\n",
       "      <td>0.02548</td>\n",
       "    </tr>\n",
       "    <tr>\n",
       "      <th>500</th>\n",
       "      <td>84.985568</td>\n",
       "      <td>1.672739</td>\n",
       "      <td>0.029347</td>\n",
       "    </tr>\n",
       "    <tr>\n",
       "      <th>600</th>\n",
       "      <td>NaN</td>\n",
       "      <td>2.961175</td>\n",
       "      <td>0.029629</td>\n",
       "    </tr>\n",
       "    <tr>\n",
       "      <th>700</th>\n",
       "      <td>NaN</td>\n",
       "      <td>4.628932</td>\n",
       "      <td>0.032057</td>\n",
       "    </tr>\n",
       "    <tr>\n",
       "      <th>800</th>\n",
       "      <td>NaN</td>\n",
       "      <td>7.386507</td>\n",
       "      <td>0.035476</td>\n",
       "    </tr>\n",
       "    <tr>\n",
       "      <th>900</th>\n",
       "      <td>NaN</td>\n",
       "      <td>10.776163</td>\n",
       "      <td>0.036697</td>\n",
       "    </tr>\n",
       "    <tr>\n",
       "      <th>1000</th>\n",
       "      <td>NaN</td>\n",
       "      <td>15.851372</td>\n",
       "      <td>0.038261</td>\n",
       "    </tr>\n",
       "  </tbody>\n",
       "</table>\n",
       "</div>"
      ],
      "text/plain": [
       "          dense     sparse     slice\n",
       "100     1.32494   0.047091  0.020114\n",
       "200    6.754978    0.20738  0.021525\n",
       "300   21.240442   0.380961  0.023405\n",
       "400   46.759686   0.831745   0.02548\n",
       "500   84.985568   1.672739  0.029347\n",
       "600         NaN   2.961175  0.029629\n",
       "700         NaN   4.628932  0.032057\n",
       "800         NaN   7.386507  0.035476\n",
       "900         NaN  10.776163  0.036697\n",
       "1000        NaN  15.851372  0.038261"
      ]
     },
     "execution_count": 14,
     "metadata": {},
     "output_type": "execute_result"
    }
   ],
   "source": [
    "out_table"
   ]
  },
  {
   "cell_type": "code",
   "execution_count": 16,
   "metadata": {},
   "outputs": [
    {
     "data": {
      "image/png": "[encoded data removed]",
      "text/plain": [
       "<Figure size 432x288 with 1 Axes>"
      ]
     },
     "metadata": {},
     "output_type": "display_data"
    }
   ],
   "source": [
    "out_table.plot(marker='.');"
   ]
  },
  {
   "cell_type": "code",
   "execution_count": null,
   "metadata": {},
   "outputs": [],
   "source": []
  }
 ],
 "metadata": {
  "kernelspec": {
   "display_name": "Python 3",
   "language": "python",
   "name": "python3"
  },
  "language_info": {
   "codemirror_mode": {
    "name": "ipython",
    "version": 3
   },
   "file_extension": ".py",
   "mimetype": "text/x-python",
   "name": "python",
   "nbconvert_exporter": "python",
   "pygments_lexer": "ipython3",
   "version": "3.7.9"
  }
 },
 "nbformat": 4,
 "nbformat_minor": 2
}
