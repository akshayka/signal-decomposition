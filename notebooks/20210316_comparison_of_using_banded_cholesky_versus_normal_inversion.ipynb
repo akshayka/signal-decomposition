{
 "cells": [
  {
   "cell_type": "code",
   "execution_count": 1,
   "metadata": {},
   "outputs": [],
   "source": [
    "%load_ext autoreload\n",
    "%autoreload 2"
   ]
  },
  {
   "cell_type": "code",
   "execution_count": 2,
   "metadata": {},
   "outputs": [],
   "source": [
    "import numpy as np\n",
    "import matplotlib.pyplot as plt\n",
    "from scipy import signal\n",
    "from scipy.optimize import minimize_scalar, minimize\n",
    "from time import time\n",
    "import seaborn as sns\n",
    "sns.set_style('darkgrid')\n",
    "sns.set_context('notebook')\n",
    "import sys\n",
    "sys.path.append('..')"
   ]
  },
  {
   "cell_type": "code",
   "execution_count": 3,
   "metadata": {},
   "outputs": [],
   "source": [
    "from osd import Problem\n",
    "from osd.components import GaussNoise, SmoothSecondDifference, SparseFirstDiffConvex\n",
    "from osd.utilities import progress\n",
    "import cvxpy as cvx"
   ]
  },
  {
   "cell_type": "code",
   "execution_count": 29,
   "metadata": {},
   "outputs": [],
   "source": [
    "import scipy.linalg as spl\n",
    "\n",
    "def prox2(v, theta, rho, A=None, return_A=True):\n",
    "    if A is None:\n",
    "        n = len(v)\n",
    "        M = np.diff(np.eye(n), axis=0, n=2)\n",
    "        r = 2 * theta / rho\n",
    "        A = np.linalg.inv(np.eye(n) + r * M.T.dot(M))\n",
    "    if not return_A:\n",
    "        return A.dot(v)\n",
    "    else:\n",
    "        return A.dot(v), A\n",
    "    \n",
    "def prox2_alt(v, theta, rho, c=None, return_c=True):\n",
    "    if c is None:\n",
    "        n = len(v)\n",
    "        M = np.diff(np.eye(n), axis=0, n=2)\n",
    "        r = 2 * theta / rho\n",
    "        ab = np.zeros((3, n))\n",
    "        A = np.eye(n) + r * M.T.dot(M)\n",
    "        for i in range(3):\n",
    "            ab[i] = np.pad(np.diag(A, k=i), (0, i))\n",
    "        c = spl.cholesky_banded(ab, lower=True)\n",
    "    if not return_c:\n",
    "        return spl.cho_solve_banded((c, True), v)\n",
    "    else:\n",
    "        return spl.cho_solve_banded((c, True), v), c\n"
   ]
  },
  {
   "cell_type": "code",
   "execution_count": 30,
   "metadata": {},
   "outputs": [
    {
     "data": {
      "text/plain": [
       "True"
      ]
     },
     "execution_count": 30,
     "metadata": {},
     "output_type": "execute_result"
    }
   ],
   "source": [
    "v = np.random.randn(100)\n",
    "np.allclose(prox2(v, theta=1e4, rho=1, return_A=False), prox2_alt(v, theta=1e4, rho=1, return_c=False))"
   ]
  },
  {
   "cell_type": "code",
   "execution_count": 33,
   "metadata": {},
   "outputs": [],
   "source": [
    "v = np.random.randn(5000)"
   ]
  },
  {
   "cell_type": "code",
   "execution_count": 34,
   "metadata": {},
   "outputs": [
    {
     "name": "stdout",
     "output_type": "stream",
     "text": [
      "5.16 s ± 238 ms per loop (mean ± std. dev. of 7 runs, 1 loop each)\n"
     ]
    }
   ],
   "source": [
    "%timeit prox2(v, theta=1e4, rho=1, return_A=False)"
   ]
  },
  {
   "cell_type": "code",
   "execution_count": 35,
   "metadata": {},
   "outputs": [
    {
     "name": "stdout",
     "output_type": "stream",
     "text": [
      "1.88 s ± 112 ms per loop (mean ± std. dev. of 7 runs, 1 loop each)\n"
     ]
    }
   ],
   "source": [
    "%timeit prox2_alt(v, theta=1e4, rho=1, return_c=False)"
   ]
  },
  {
   "cell_type": "code",
   "execution_count": 36,
   "metadata": {},
   "outputs": [],
   "source": [
    "x, A = prox2(v, theta=1e4, rho=1, return_A=True)\n",
    "x, c = prox2_alt(v, theta=1e4, rho=1, return_c=True)"
   ]
  },
  {
   "cell_type": "code",
   "execution_count": 37,
   "metadata": {},
   "outputs": [
    {
     "name": "stdout",
     "output_type": "stream",
     "text": [
      "8.87 ms ± 139 µs per loop (mean ± std. dev. of 7 runs, 100 loops each)\n"
     ]
    }
   ],
   "source": [
    "%timeit prox2(v, theta=1e4, rho=1, return_A=False, A=A)"
   ]
  },
  {
   "cell_type": "code",
   "execution_count": 38,
   "metadata": {},
   "outputs": [
    {
     "name": "stdout",
     "output_type": "stream",
     "text": [
      "116 µs ± 1.77 µs per loop (mean ± std. dev. of 7 runs, 10000 loops each)\n"
     ]
    }
   ],
   "source": [
    "%timeit prox2_alt(v, theta=1e4, rho=1, return_c=False, c=c)"
   ]
  },
  {
   "cell_type": "code",
   "execution_count": null,
   "metadata": {},
   "outputs": [],
   "source": []
  }
 ],
 "metadata": {
  "kernelspec": {
   "display_name": "Python 3",
   "language": "python",
   "name": "python3"
  },
  "language_info": {
   "codemirror_mode": {
    "name": "ipython",
    "version": 3
   },
   "file_extension": ".py",
   "mimetype": "text/x-python",
   "name": "python",
   "nbconvert_exporter": "python",
   "pygments_lexer": "ipython3",
   "version": "3.7.9"
  }
 },
 "nbformat": 4,
 "nbformat_minor": 2
}
